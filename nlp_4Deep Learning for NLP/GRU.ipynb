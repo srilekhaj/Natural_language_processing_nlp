{
 "cells": [
  {
   "cell_type": "markdown",
   "id": "926983d9",
   "metadata": {},
   "source": [
    "# Similar Workflow of LSTM but the model changed to GRU\n",
    "**GRU (Gated Recurrent Unit)** - Simplified version of LSTM; faster to train."
   ]
  },
  {
   "cell_type": "markdown",
   "id": "7b3fde7d",
   "metadata": {},
   "source": [
    "we will use previous project *topic_classification_project* with the same dataset\n",
    "GRU-based text classification model\n",
    "\n",
    "- 🧠 Project Name: “News Topic Classification using GRU\"\n",
    "- 📚 Dataset: 20 Newsgroups --> 3-category('sci.electronics', 'soc.religion.christian', 'rec.autos').\n",
    "- 🧰 Tech Stack: keras tensorflow "
   ]
  },
  {
   "cell_type": "markdown",
   "id": "7685fa29",
   "metadata": {},
   "source": [
    "# Step 1: Load the dataset"
   ]
  },
  {
   "cell_type": "code",
   "execution_count": 3,
   "id": "e9e345ac",
   "metadata": {},
   "outputs": [],
   "source": [
    "import numpy as np \n",
    "from sklearn.datasets import fetch_20newsgroups\n",
    "\n",
    "categories = ['comp.graphics','sci.med'] #computer & medical dataset\n",
    "data = fetch_20newsgroups(subset='all', categories=categories)\n",
    "texts = data.data\n",
    "labels = data.target\n"
   ]
  },
  {
   "cell_type": "markdown",
   "id": "6fd00bc4",
   "metadata": {},
   "source": [
    "# Step 2: Label Encode"
   ]
  },
  {
   "cell_type": "code",
   "execution_count": 4,
   "id": "6e273df2",
   "metadata": {},
   "outputs": [],
   "source": [
    "from sklearn.preprocessing import LabelEncoder\n",
    "\n",
    "le = LabelEncoder()\n",
    "labels_encoded = le.fit_transform(labels)\n"
   ]
  },
  {
   "cell_type": "markdown",
   "id": "c8b454f0",
   "metadata": {},
   "source": [
    "# Step 3: Tokenize and Embedding\n",
    "In traditional machine learning (ML), models like Naïve Bayes, SVM, or Logistic Regression rely on manual feature extraction such as Bag of Words (BoW) or TF-IDF.\n",
    "→ These features are sparse, high-dimensional, and do not capture semantic meaning between words.\n",
    "\n",
    "🧿 Deep Learning Approach, Deep learning models — such as LSTM, GRU, and Transformers — can learn features automatically from sequences of tokens.\n",
    "→ No need for manual TF-IDF or BoW."
   ]
  },
  {
   "cell_type": "markdown",
   "id": "aeeaad12",
   "metadata": {},
   "source": [
    "# Notes:\n",
    "\n",
    "## 🤖👩🏻‍💻 Traditional ML (Naive Bayes, SVM, etc.):\n",
    "\n",
    "- Tokenizer → splits text into words.\n",
    "\n",
    "- TF-IDF / CountVectorizer → converts words into sparse numeric vectors (frequency/importance).\n",
    "\n",
    "- Word order and context are ignored.\n",
    "\n",
    "- Model only learns patterns based on word presence/importance.\n",
    "\n",
    "## 🧠🪐 Deep Learning (LSTM, GRU):\n",
    "\n",
    " - Keras Tokenizer → converts words into integer indices.\n",
    "\n",
    " - Embedding layer → turns indices into dense word vectors.\n",
    "\n",
    " - LSTM reads sequences → learns word order, context, and semantic meaning.\n",
    "\n",
    " - Model can capture long-term dependencies and relationships between words."
   ]
  },
  {
   "cell_type": "code",
   "execution_count": 5,
   "id": "3c52b5ed",
   "metadata": {},
   "outputs": [],
   "source": [
    "\n",
    "from tensorflow.keras.preprocessing.text import Tokenizer\n",
    "from tensorflow.keras.preprocessing.sequence import pad_sequences\n",
    "\n",
    "max_words = 5000       # Max vocabulary size\n",
    "max_len = 200          # Max words in a sequence\n",
    "\n",
    "tokenizer = Tokenizer(num_words=max_words, oov_token=\"<OOV>\")\n",
    "tokenizer.fit_on_texts(texts)\n",
    "sequences = tokenizer.texts_to_sequences(texts)\n",
    "padded_sequences = pad_sequences(sequences, maxlen=max_len, padding='post')\n"
   ]
  },
  {
   "cell_type": "markdown",
   "id": "c4deda64",
   "metadata": {},
   "source": [
    "# Train and test split"
   ]
  },
  {
   "cell_type": "code",
   "execution_count": 6,
   "id": "ccd74c27",
   "metadata": {},
   "outputs": [],
   "source": [
    "from sklearn.model_selection import train_test_split\n",
    "\n",
    "X_train, X_test, y_train, y_test = train_test_split(\n",
    "    padded_sequences, labels_encoded, test_size=0.2, random_state=42\n",
    ")\n"
   ]
  },
  {
   "cell_type": "markdown",
   "id": "b5e3e88b",
   "metadata": {},
   "source": [
    "# Model Creation - LSTM model"
   ]
  },
  {
   "cell_type": "code",
   "execution_count": 8,
   "id": "5e93fa37",
   "metadata": {},
   "outputs": [
    {
     "name": "stdout",
     "output_type": "stream",
     "text": [
      "\u001b[1m5/5\u001b[0m \u001b[32m━━━━━━━━━━━━━━━━━━━━\u001b[0m\u001b[37m\u001b[0m \u001b[1m1s\u001b[0m 21ms/step - accuracy: 0.4000 - loss: 0.7040\n"
     ]
    },
    {
     "data": {
      "text/html": [
       "<pre style=\"white-space:pre;overflow-x:auto;line-height:normal;font-family:Menlo,'DejaVu Sans Mono',consolas,'Courier New',monospace\"><span style=\"font-weight: bold\">Model: \"sequential_1\"</span>\n",
       "</pre>\n"
      ],
      "text/plain": [
       "\u001b[1mModel: \"sequential_1\"\u001b[0m\n"
      ]
     },
     "metadata": {},
     "output_type": "display_data"
    },
    {
     "data": {
      "text/html": [
       "<pre style=\"white-space:pre;overflow-x:auto;line-height:normal;font-family:Menlo,'DejaVu Sans Mono',consolas,'Courier New',monospace\">┏━━━━━━━━━━━━━━━━━━━━━━━━━━━━━━━━━┳━━━━━━━━━━━━━━━━━━━━━━━━┳━━━━━━━━━━━━━━━┓\n",
       "┃<span style=\"font-weight: bold\"> Layer (type)                    </span>┃<span style=\"font-weight: bold\"> Output Shape           </span>┃<span style=\"font-weight: bold\">       Param # </span>┃\n",
       "┡━━━━━━━━━━━━━━━━━━━━━━━━━━━━━━━━━╇━━━━━━━━━━━━━━━━━━━━━━━━╇━━━━━━━━━━━━━━━┩\n",
       "│ embedding_1 (<span style=\"color: #0087ff; text-decoration-color: #0087ff\">Embedding</span>)         │ (<span style=\"color: #00af00; text-decoration-color: #00af00\">2</span>, <span style=\"color: #00af00; text-decoration-color: #00af00\">200</span>, <span style=\"color: #00af00; text-decoration-color: #00af00\">64</span>)           │       <span style=\"color: #00af00; text-decoration-color: #00af00\">320,000</span> │\n",
       "├─────────────────────────────────┼────────────────────────┼───────────────┤\n",
       "│ gru_1 (<span style=\"color: #0087ff; text-decoration-color: #0087ff\">GRU</span>)                     │ (<span style=\"color: #00af00; text-decoration-color: #00af00\">2</span>, <span style=\"color: #00af00; text-decoration-color: #00af00\">64</span>)                │        <span style=\"color: #00af00; text-decoration-color: #00af00\">24,960</span> │\n",
       "├─────────────────────────────────┼────────────────────────┼───────────────┤\n",
       "│ dropout_1 (<span style=\"color: #0087ff; text-decoration-color: #0087ff\">Dropout</span>)             │ (<span style=\"color: #00af00; text-decoration-color: #00af00\">2</span>, <span style=\"color: #00af00; text-decoration-color: #00af00\">64</span>)                │             <span style=\"color: #00af00; text-decoration-color: #00af00\">0</span> │\n",
       "├─────────────────────────────────┼────────────────────────┼───────────────┤\n",
       "│ dense_2 (<span style=\"color: #0087ff; text-decoration-color: #0087ff\">Dense</span>)                 │ (<span style=\"color: #00af00; text-decoration-color: #00af00\">2</span>, <span style=\"color: #00af00; text-decoration-color: #00af00\">32</span>)                │         <span style=\"color: #00af00; text-decoration-color: #00af00\">2,080</span> │\n",
       "├─────────────────────────────────┼────────────────────────┼───────────────┤\n",
       "│ dense_3 (<span style=\"color: #0087ff; text-decoration-color: #0087ff\">Dense</span>)                 │ (<span style=\"color: #00af00; text-decoration-color: #00af00\">2</span>, <span style=\"color: #00af00; text-decoration-color: #00af00\">2</span>)                 │            <span style=\"color: #00af00; text-decoration-color: #00af00\">66</span> │\n",
       "└─────────────────────────────────┴────────────────────────┴───────────────┘\n",
       "</pre>\n"
      ],
      "text/plain": [
       "┏━━━━━━━━━━━━━━━━━━━━━━━━━━━━━━━━━┳━━━━━━━━━━━━━━━━━━━━━━━━┳━━━━━━━━━━━━━━━┓\n",
       "┃\u001b[1m \u001b[0m\u001b[1mLayer (type)                   \u001b[0m\u001b[1m \u001b[0m┃\u001b[1m \u001b[0m\u001b[1mOutput Shape          \u001b[0m\u001b[1m \u001b[0m┃\u001b[1m \u001b[0m\u001b[1m      Param #\u001b[0m\u001b[1m \u001b[0m┃\n",
       "┡━━━━━━━━━━━━━━━━━━━━━━━━━━━━━━━━━╇━━━━━━━━━━━━━━━━━━━━━━━━╇━━━━━━━━━━━━━━━┩\n",
       "│ embedding_1 (\u001b[38;5;33mEmbedding\u001b[0m)         │ (\u001b[38;5;34m2\u001b[0m, \u001b[38;5;34m200\u001b[0m, \u001b[38;5;34m64\u001b[0m)           │       \u001b[38;5;34m320,000\u001b[0m │\n",
       "├─────────────────────────────────┼────────────────────────┼───────────────┤\n",
       "│ gru_1 (\u001b[38;5;33mGRU\u001b[0m)                     │ (\u001b[38;5;34m2\u001b[0m, \u001b[38;5;34m64\u001b[0m)                │        \u001b[38;5;34m24,960\u001b[0m │\n",
       "├─────────────────────────────────┼────────────────────────┼───────────────┤\n",
       "│ dropout_1 (\u001b[38;5;33mDropout\u001b[0m)             │ (\u001b[38;5;34m2\u001b[0m, \u001b[38;5;34m64\u001b[0m)                │             \u001b[38;5;34m0\u001b[0m │\n",
       "├─────────────────────────────────┼────────────────────────┼───────────────┤\n",
       "│ dense_2 (\u001b[38;5;33mDense\u001b[0m)                 │ (\u001b[38;5;34m2\u001b[0m, \u001b[38;5;34m32\u001b[0m)                │         \u001b[38;5;34m2,080\u001b[0m │\n",
       "├─────────────────────────────────┼────────────────────────┼───────────────┤\n",
       "│ dense_3 (\u001b[38;5;33mDense\u001b[0m)                 │ (\u001b[38;5;34m2\u001b[0m, \u001b[38;5;34m2\u001b[0m)                 │            \u001b[38;5;34m66\u001b[0m │\n",
       "└─────────────────────────────────┴────────────────────────┴───────────────┘\n"
      ]
     },
     "metadata": {},
     "output_type": "display_data"
    },
    {
     "data": {
      "text/html": [
       "<pre style=\"white-space:pre;overflow-x:auto;line-height:normal;font-family:Menlo,'DejaVu Sans Mono',consolas,'Courier New',monospace\"><span style=\"font-weight: bold\"> Total params: </span><span style=\"color: #00af00; text-decoration-color: #00af00\">1,041,320</span> (3.97 MB)\n",
       "</pre>\n"
      ],
      "text/plain": [
       "\u001b[1m Total params: \u001b[0m\u001b[38;5;34m1,041,320\u001b[0m (3.97 MB)\n"
      ]
     },
     "metadata": {},
     "output_type": "display_data"
    },
    {
     "data": {
      "text/html": [
       "<pre style=\"white-space:pre;overflow-x:auto;line-height:normal;font-family:Menlo,'DejaVu Sans Mono',consolas,'Courier New',monospace\"><span style=\"font-weight: bold\"> Trainable params: </span><span style=\"color: #00af00; text-decoration-color: #00af00\">347,106</span> (1.32 MB)\n",
       "</pre>\n"
      ],
      "text/plain": [
       "\u001b[1m Trainable params: \u001b[0m\u001b[38;5;34m347,106\u001b[0m (1.32 MB)\n"
      ]
     },
     "metadata": {},
     "output_type": "display_data"
    },
    {
     "data": {
      "text/html": [
       "<pre style=\"white-space:pre;overflow-x:auto;line-height:normal;font-family:Menlo,'DejaVu Sans Mono',consolas,'Courier New',monospace\"><span style=\"font-weight: bold\"> Non-trainable params: </span><span style=\"color: #00af00; text-decoration-color: #00af00\">0</span> (0.00 B)\n",
       "</pre>\n"
      ],
      "text/plain": [
       "\u001b[1m Non-trainable params: \u001b[0m\u001b[38;5;34m0\u001b[0m (0.00 B)\n"
      ]
     },
     "metadata": {},
     "output_type": "display_data"
    },
    {
     "data": {
      "text/html": [
       "<pre style=\"white-space:pre;overflow-x:auto;line-height:normal;font-family:Menlo,'DejaVu Sans Mono',consolas,'Courier New',monospace\"><span style=\"font-weight: bold\"> Optimizer params: </span><span style=\"color: #00af00; text-decoration-color: #00af00\">694,214</span> (2.65 MB)\n",
       "</pre>\n"
      ],
      "text/plain": [
       "\u001b[1m Optimizer params: \u001b[0m\u001b[38;5;34m694,214\u001b[0m (2.65 MB)\n"
      ]
     },
     "metadata": {},
     "output_type": "display_data"
    }
   ],
   "source": [
    "from tensorflow.keras.models import Sequential\n",
    "from tensorflow.keras.layers import Embedding, GRU, Dense, Dropout\n",
    "\n",
    "model = Sequential([\n",
    "    Embedding(input_dim=max_words, output_dim=64, input_length=max_len),\n",
    "    GRU(64, return_sequences=False),\n",
    "    Dropout(0.5),\n",
    "    Dense(32, activation='relu'),\n",
    "    Dense(len(categories), activation='softmax')\n",
    "])\n",
    "model.compile(loss='sparse_categorical_crossentropy', optimizer='adam', metrics=['accuracy'])\n",
    "model.fit(X_train[:10], y_train[:10], epochs=1, batch_size=2)\n",
    "model.summary()\n",
    "\n",
    "# model.compile(loss='sparse_categorical_crossentropy', optimizer='adam', metrics=['accuracy'])\n",
    "# model.summary()\n"
   ]
  },
  {
   "cell_type": "markdown",
   "id": "12221e9b",
   "metadata": {},
   "source": [
    "# Train the model"
   ]
  },
  {
   "cell_type": "code",
   "execution_count": 9,
   "id": "4083f068",
   "metadata": {},
   "outputs": [
    {
     "name": "stdout",
     "output_type": "stream",
     "text": [
      "Epoch 1/5\n",
      "\u001b[1m20/20\u001b[0m \u001b[32m━━━━━━━━━━━━━━━━━━━━\u001b[0m\u001b[37m\u001b[0m \u001b[1m2s\u001b[0m 91ms/step - accuracy: 0.5701 - loss: 0.6900 - val_accuracy: 0.5828 - val_loss: 0.6878\n",
      "Epoch 2/5\n",
      "\u001b[1m20/20\u001b[0m \u001b[32m━━━━━━━━━━━━━━━━━━━━\u001b[0m\u001b[37m\u001b[0m \u001b[1m2s\u001b[0m 77ms/step - accuracy: 0.5876 - loss: 0.6814 - val_accuracy: 0.5796 - val_loss: 0.6794\n",
      "Epoch 3/5\n",
      "\u001b[1m20/20\u001b[0m \u001b[32m━━━━━━━━━━━━━━━━━━━━\u001b[0m\u001b[37m\u001b[0m \u001b[1m2s\u001b[0m 90ms/step - accuracy: 0.6035 - loss: 0.6594 - val_accuracy: 0.5796 - val_loss: 0.6670\n",
      "Epoch 4/5\n",
      "\u001b[1m20/20\u001b[0m \u001b[32m━━━━━━━━━━━━━━━━━━━━\u001b[0m\u001b[37m\u001b[0m \u001b[1m2s\u001b[0m 116ms/step - accuracy: 0.6361 - loss: 0.6108 - val_accuracy: 0.6210 - val_loss: 0.6340\n",
      "Epoch 5/5\n",
      "\u001b[1m20/20\u001b[0m \u001b[32m━━━━━━━━━━━━━━━━━━━━\u001b[0m\u001b[37m\u001b[0m \u001b[1m3s\u001b[0m 113ms/step - accuracy: 0.6640 - loss: 0.6061 - val_accuracy: 0.6401 - val_loss: 0.6220\n"
     ]
    }
   ],
   "source": [
    "history = model.fit(\n",
    "    X_train, y_train,\n",
    "    epochs=5,\n",
    "    batch_size=64,\n",
    "    validation_split=0.2\n",
    ")\n"
   ]
  },
  {
   "cell_type": "markdown",
   "id": "f06ce4d0",
   "metadata": {},
   "source": [
    "## Summarization\n",
    "### 🔹 **Epoch**\n",
    "\n",
    "An **epoch** is **one complete pass** through the entire training dataset — meaning the model has seen every training sample **once**.\n",
    "\n",
    "---\n",
    "\n",
    "### 🔹 **Batch size**\n",
    "\n",
    "The **batch size** is how many samples (images, texts, etc.) are processed **in one step** before the model updates its weights.\n",
    "\n",
    "So if:\n",
    "\n",
    "* `batch_size = 64`\n",
    "  then each step (or batch) processes **64 images**.\n",
    "\n",
    "---\n",
    "\n",
    "### 🔹 **Steps per epoch**\n",
    "\n",
    "This is how many batches are needed to complete one epoch:\n",
    "[\n",
    "\\text{steps per epoch} = \\frac{\\text{number of training samples}}{\\text{batch size}}\n",
    "]\n",
    "**steps per epoch = number of training samples / batch size**\n",
    "\t​\n",
    "\n",
    "Example:\n",
    "\n",
    "* 1,920 training images\n",
    "* batch size = 64\n",
    "  [\n",
    "  \\text{steps per epoch} = 1920 / 64 = 30\n",
    "  ]\n",
    "\n",
    "So each epoch will show progress like:\n",
    "\n",
    "```\n",
    "30/30 [==============================] - 5s 100ms/step\n",
    "```\n",
    "\n",
    "which means 30 batches of 64 images each → all 1,920 images processed once.\n",
    "\n",
    "---\n",
    "\n",
    "> Epoch = one full pass through training data\n",
    "\n",
    "> Batch size = how many samples per training step\n",
    "\n",
    "> Steps per epoch = total batches needed to complete one epoch\n",
    "\n",
    "---\n"
   ]
  },
  {
   "cell_type": "markdown",
   "id": "d5af5f1d",
   "metadata": {},
   "source": [
    "# Evaluate & Predict"
   ]
  },
  {
   "cell_type": "code",
   "execution_count": 10,
   "id": "d4048309",
   "metadata": {},
   "outputs": [
    {
     "name": "stdout",
     "output_type": "stream",
     "text": [
      "\u001b[1m13/13\u001b[0m \u001b[32m━━━━━━━━━━━━━━━━━━━━\u001b[0m\u001b[37m\u001b[0m \u001b[1m0s\u001b[0m 13ms/step - accuracy: 0.6412 - loss: 0.6234\n",
      "Test Accuracy: 0.6412213444709778\n",
      "\u001b[1m1/1\u001b[0m \u001b[32m━━━━━━━━━━━━━━━━━━━━\u001b[0m\u001b[37m\u001b[0m \u001b[1m0s\u001b[0m 129ms/step\n",
      "Predicted Category: comp.graphics\n"
     ]
    }
   ],
   "source": [
    "loss, accuracy = model.evaluate(X_test, y_test)\n",
    "print(\"Test Accuracy:\", accuracy)\n",
    "\n",
    "# Predict category for a sample text\n",
    "sample_text = [\"The car engine needs regular maintenance.\"]\n",
    "seq = tokenizer.texts_to_sequences(sample_text)\n",
    "pad_seq = pad_sequences(seq, maxlen=max_len, padding='post')\n",
    "pred = model.predict(pad_seq)\n",
    "predicted_category = le.inverse_transform([np.argmax(pred)])\n",
    "print(\"Predicted Category:\", data.target_names[predicted_category[0]])\n"
   ]
  },
  {
   "cell_type": "markdown",
   "id": "84c9d22a",
   "metadata": {},
   "source": []
  }
 ],
 "metadata": {
  "kernelspec": {
   "display_name": "nlp_env",
   "language": "python",
   "name": "python3"
  },
  "language_info": {
   "codemirror_mode": {
    "name": "ipython",
    "version": 3
   },
   "file_extension": ".py",
   "mimetype": "text/x-python",
   "name": "python",
   "nbconvert_exporter": "python",
   "pygments_lexer": "ipython3",
   "version": "3.12.12"
  }
 },
 "nbformat": 4,
 "nbformat_minor": 5
}
