{
 "cells": [
  {
   "cell_type": "markdown",
   "id": "e4237d60",
   "metadata": {},
   "source": [
    "# Step3 Word Embeddings \n",
    "Word2Vec by google, \n",
    "GloVe by stanford,\n",
    " FastText by facebook"
   ]
  },
  {
   "cell_type": "markdown",
   "id": "6463ca59",
   "metadata": {},
   "source": [
    "- Learn dense vector representations for words based on context.\n",
    "- ✅ Understands semantic similarity\n",
    "- ✅ Words with similar meaning have similar vectors (e.g., “king” ≈ “queen”, “doctor” ≈ “nurse”)\n",
    "- ✅ Captures some syntactic relationships (e.g., “walking” vs “walked”)\n",
    "- ✅ Considers context through co-occurrence patterns\n",
    "- ❌ Still does not fully consider long-range order of words (sentence structure)\n",
    "\n",
    "Word2Vec’s principle:\n",
    " - “You shall know a word by the company it keeps.”\n",
    " - If “bank” appears near “river” or “money”, model learns both senses.\n",
    "\n",
    "- So embeddings are not next level of TF-IDF,\n",
    "- **they are a completely different approach — from count-based → to neural, meaning-based representation.**"
   ]
  },
  {
   "cell_type": "markdown",
   "id": "154cf92f",
   "metadata": {},
   "source": [
    "pip install gensim"
   ]
  },
  {
   "cell_type": "code",
   "execution_count": 1,
   "id": "59f1fbf9",
   "metadata": {},
   "outputs": [],
   "source": [
    "sentences = [\n",
    "    \"I love playing badminton on weekends\",\n",
    "    \"Badminton makes me happy and active\",\n",
    "    \"Gardening is peaceful and relaxing\",\n",
    "    \"I love dancing every weekend\"\n",
    "]\n"
   ]
  },
  {
   "cell_type": "code",
   "execution_count": 2,
   "id": "d901f28b",
   "metadata": {},
   "outputs": [
    {
     "ename": "ModuleNotFoundError",
     "evalue": "No module named 'gensim'",
     "output_type": "error",
     "traceback": [
      "\u001b[31m---------------------------------------------------------------------------\u001b[39m",
      "\u001b[31mModuleNotFoundError\u001b[39m                       Traceback (most recent call last)",
      "\u001b[36mCell\u001b[39m\u001b[36m \u001b[39m\u001b[32mIn[2]\u001b[39m\u001b[32m, line 1\u001b[39m\n\u001b[32m----> \u001b[39m\u001b[32m1\u001b[39m \u001b[38;5;28;01mfrom\u001b[39;00m\u001b[38;5;250m \u001b[39m\u001b[34;01mgensim\u001b[39;00m\u001b[34;01m.\u001b[39;00m\u001b[34;01mmodels\u001b[39;00m\u001b[38;5;250m \u001b[39m\u001b[38;5;28;01mimport\u001b[39;00m Word2Vec\n\u001b[32m      2\u001b[39m \u001b[38;5;28;01mfrom\u001b[39;00m\u001b[38;5;250m \u001b[39m\u001b[34;01mnltk\u001b[39;00m\u001b[34;01m.\u001b[39;00m\u001b[34;01mtokenize\u001b[39;00m\u001b[38;5;250m \u001b[39m\u001b[38;5;28;01mimport\u001b[39;00m word_tokenize\n\u001b[32m      4\u001b[39m tokenized_sentences = [word_tokenize(s.lower()) \u001b[38;5;28;01mfor\u001b[39;00m s \u001b[38;5;129;01min\u001b[39;00m sentences]\n",
      "\u001b[31mModuleNotFoundError\u001b[39m: No module named 'gensim'"
     ]
    }
   ],
   "source": [
    "from gensim.models import Word2Vec\n",
    "from nltk.tokenize import word_tokenize\n",
    "\n",
    "tokenized_sentences = [word_tokenize(s.lower()) for s in sentences]\n",
    "w2v_model = Word2Vec(sentences=tokenized_sentences, vector_size=10, window=3, min_count=1, sg=1)\n",
    "\n",
    "# View similar words\n",
    "print(\"\\nMost similar to 'badminton':\", w2v_model.wv.most_similar('badminton'))\n",
    "print(\"\\nVector for 'badminton':\\n\", w2v_model.wv['badminton'])\n"
   ]
  }
 ],
 "metadata": {
  "kernelspec": {
   "display_name": "nlp_env",
   "language": "python",
   "name": "python3"
  },
  "language_info": {
   "codemirror_mode": {
    "name": "ipython",
    "version": 3
   },
   "file_extension": ".py",
   "mimetype": "text/x-python",
   "name": "python",
   "nbconvert_exporter": "python",
   "pygments_lexer": "ipython3",
   "version": "3.14.0"
  }
 },
 "nbformat": 4,
 "nbformat_minor": 5
}
