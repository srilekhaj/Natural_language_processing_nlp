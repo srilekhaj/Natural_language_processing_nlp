{
 "cells": [
  {
   "cell_type": "markdown",
   "id": "aad3d9d4",
   "metadata": {},
   "source": [
    "### This is where we turn words → numbers so that ML models can understand them."
   ]
  },
  {
   "cell_type": "markdown",
   "id": "f51213fa",
   "metadata": {
    "vscode": {
     "languageId": "plaintext"
    }
   },
   "source": [
    "# Step 1 Bag of Words"
   ]
  },
  {
   "cell_type": "markdown",
   "id": "4d919cb0",
   "metadata": {},
   "source": [
    "just convert all word into numbers\n",
    "without meaning,\n",
    "no order of word, \n",
    "will not consider word order or meaning"
   ]
  },
  {
   "cell_type": "code",
   "execution_count": 23,
   "id": "0e6394a0",
   "metadata": {},
   "outputs": [
    {
     "name": "stdout",
     "output_type": "stream",
     "text": [
      "Feature Names: ['amazing' 'and' 'for' 'is' 'learning' 'love' 'machine' 'new' 'nlp'\n",
      " 'processing' 'text' 'things']\n",
      "BoW Matrix:\n",
      " [[0 1 0 0 1 1 1 0 1 0 0 0]\n",
      " [1 0 1 1 0 0 0 0 1 1 1 0]\n",
      " [0 0 0 0 1 1 0 1 0 0 0 1]]\n"
     ]
    }
   ],
   "source": [
    "from sklearn.feature_extraction.text import CountVectorizer\n",
    "\n",
    "corpus = [\n",
    "    \"I love NLP and machine learning\",\n",
    "    \"NLP is amazing for text processing\",\n",
    "    \"I love learning new things\"\n",
    "]\n",
    "\n",
    "vectorizer = CountVectorizer()\n",
    "X = vectorizer.fit_transform(corpus)\n",
    "\n",
    "print(\"Feature Names:\", vectorizer.get_feature_names_out())\n",
    "print(\"BoW Matrix:\\n\", X.toarray())\n"
   ]
  },
  {
   "cell_type": "code",
   "execution_count": 24,
   "id": "367d4dbe",
   "metadata": {},
   "outputs": [
    {
     "name": "stdout",
     "output_type": "stream",
     "text": [
      "Feature Names: ['amazing' 'learning' 'love' 'machine' 'new' 'nlp' 'processing' 'text'\n",
      " 'things']\n",
      "BoW Matrix:\n",
      " [[0 1 1 1 0 1 0 0 0]\n",
      " [1 0 0 0 0 1 1 1 0]\n",
      " [0 1 1 0 1 0 0 0 1]]\n"
     ]
    }
   ],
   "source": [
    "# Explicitly set stop_words='english' to remove common stopwords like 'is' and 'and'\n",
    "vectorizer = CountVectorizer(stop_words='english')\n",
    "X = vectorizer.fit_transform(corpus)\n",
    "\n",
    "print(\"Feature Names:\", vectorizer.get_feature_names_out())\n",
    "print(\"BoW Matrix:\\n\", X.toarray())"
   ]
  },
  {
   "cell_type": "markdown",
   "id": "2a9e3225",
   "metadata": {},
   "source": [
    "You’ll see 0s and 1s (or counts). no of times words present in that sentence.\n",
    "Words are represented by position only — no meaning, no order.\n",
    "it will enter the count of each word occurred in that sentence \n",
    "you can see the below table from the corpus list I exist in Sentence 1 and Sentence 3\n"
   ]
  },
  {
   "cell_type": "markdown",
   "id": "ce8fc94a",
   "metadata": {},
   "source": [
    "![alt text](image-2.png)"
   ]
  },
  {
   "cell_type": "code",
   "execution_count": 28,
   "id": "c0083425",
   "metadata": {},
   "outputs": [
    {
     "name": "stdout",
     "output_type": "stream",
     "text": [
      "Feature Names: ['briyani' 'chapathi' 'country' 'culture' 'famous' 'fighters' 'fought'\n",
      " 'freedom' 'heritage' 'india' 'love' 'loveable' 'north' 'south' 'subji']\n",
      "BoW Matrix:\n",
      " [[0 0 1 0 0 1 1 1 0 0 1 0 0 0 0]\n",
      " [0 0 1 1 0 0 0 0 1 2 0 1 0 0 0]\n",
      " [1 1 0 0 2 0 0 0 0 2 0 0 1 1 1]]\n"
     ]
    }
   ],
   "source": [
    "\n",
    "text = [\n",
    "    \"I love freedom fighters they fought for our country\",\n",
    "    \"India is a loveable country. India has heritage culture\",\n",
    "    \"Briyani is famous across south india. north india is famous for chapathi subji\"\n",
    "\n",
    "]\n",
    "vectorizer = CountVectorizer(stop_words='english')\n",
    "X = vectorizer.fit_transform(text)\n",
    "\n",
    "print(\"Feature Names:\", vectorizer.get_feature_names_out())\n",
    "print(\"BoW Matrix:\\n\", X.toarray())"
   ]
  },
  {
   "cell_type": "markdown",
   "id": "a86635ca",
   "metadata": {},
   "source": [
    "as you can see india occurs 2 times in sentence 2\n"
   ]
  },
  {
   "cell_type": "markdown",
   "id": "86a3ebb5",
   "metadata": {},
   "source": [
    "💡 Task for You\n",
    "\n",
    "Use your own 3–4 short sentences (e.g., about AI, sports, or your hobbies).\n",
    "Then:\n",
    "\n",
    "Build a Bag of Words model.\n",
    "\n",
    "Print the vocabulary and matrix.\n",
    "\n",
    "Observe which words appear in which sentences.\n",
    "\n",
    "Paste your output here — I’ll explain what each column and row"
   ]
  },
  {
   "cell_type": "code",
   "execution_count": 6,
   "id": "8792807d",
   "metadata": {},
   "outputs": [],
   "source": [
    "sentences = [\n",
    "    \"India won the match in T20 Cricket\",\n",
    "    \"I would like to watch movie on saturdays\",\n",
    "    \"Sherin went to office today\"\n",
    "]"
   ]
  },
  {
   "cell_type": "code",
   "execution_count": 8,
   "id": "3aa93ad4",
   "metadata": {},
   "outputs": [
    {
     "name": "stdout",
     "output_type": "stream",
     "text": [
      "Feature Names: ['cricket' 'in' 'india' 'like' 'match' 'movie' 'office' 'on' 'saturdays'\n",
      " 'sherin' 't20' 'the' 'to' 'today' 'watch' 'went' 'won' 'would']\n",
      "BoW Matrix:\n",
      " <Compressed Sparse Row sparse matrix of dtype 'int64'\n",
      "\twith 19 stored elements and shape (3, 18)>\n",
      "  Coords\tValues\n",
      "  (0, 2)\t1\n",
      "  (0, 16)\t1\n",
      "  (0, 11)\t1\n",
      "  (0, 4)\t1\n",
      "  (0, 1)\t1\n",
      "  (0, 10)\t1\n",
      "  (0, 0)\t1\n",
      "  (1, 17)\t1\n",
      "  (1, 3)\t1\n",
      "  (1, 12)\t1\n",
      "  (1, 14)\t1\n",
      "  (1, 5)\t1\n",
      "  (1, 7)\t1\n",
      "  (1, 8)\t1\n",
      "  (2, 12)\t1\n",
      "  (2, 9)\t1\n",
      "  (2, 15)\t1\n",
      "  (2, 6)\t1\n",
      "  (2, 13)\t1\n"
     ]
    }
   ],
   "source": [
    "from sklearn.feature_extraction.text import CountVectorizer\n",
    "\n",
    "vectorizer = CountVectorizer()\n",
    "X = vectorizer.fit_transform(sentences)\n",
    "\n",
    "print(\"Feature Names:\", vectorizer.get_feature_names_out())\n",
    "print(\"BoW Matrix:\\n\", X)\n"
   ]
  },
  {
   "cell_type": "code",
   "execution_count": 10,
   "id": "c079e8c6",
   "metadata": {},
   "outputs": [
    {
     "name": "stdout",
     "output_type": "stream",
     "text": [
      "BoW Matrix:\n",
      " [[1 1 1 0 1 0 0 0 0 0 1 1 0 0 0 0 1 0]\n",
      " [0 0 0 1 0 1 0 1 1 0 0 0 1 0 1 0 0 1]\n",
      " [0 0 0 0 0 0 1 0 0 1 0 0 1 1 0 1 0 0]]\n"
     ]
    }
   ],
   "source": [
    "print(\"BoW Matrix:\\n\", X.toarray())\n"
   ]
  },
  {
   "cell_type": "code",
   "execution_count": 12,
   "id": "5e3fd62a",
   "metadata": {},
   "outputs": [
    {
     "name": "stdout",
     "output_type": "stream",
     "text": [
      "Sentence 0 [1 1 1 0 1 0 0 0 0 0 1 1 0 0 0 0 1 0]\n",
      "Sentence 1 [0 0 0 1 0 1 0 1 1 0 0 0 1 0 1 0 0 1]\n",
      "Sentence 2 [0 0 0 0 0 0 1 0 0 1 0 0 1 1 0 1 0 0]\n"
     ]
    }
   ],
   "source": [
    "matrix = X.toarray()\n",
    "\n",
    "for i in range(len(matrix)):\n",
    "    print(\"Sentence\",i , matrix[i])"
   ]
  },
  {
   "cell_type": "markdown",
   "id": "d42bf820",
   "metadata": {},
   "source": [
    "# Example 2"
   ]
  },
  {
   "cell_type": "code",
   "execution_count": 16,
   "id": "6cba7efc",
   "metadata": {},
   "outputs": [],
   "source": [
    "corpus = [\n",
    "    \"I love badminton and dancing\",\n",
    "    \"Gardening is relaxing and peaceful\",\n",
    "    \"I play badminton every weekend\",\n",
    "    \"Dancing keeps me active and happy\"\n",
    "]\n"
   ]
  },
  {
   "cell_type": "code",
   "execution_count": 18,
   "id": "7a4ad795",
   "metadata": {},
   "outputs": [
    {
     "name": "stdout",
     "output_type": "stream",
     "text": [
      "Feature Names: ['active' 'and' 'badminton' 'dancing' 'every' 'gardening' 'happy' 'is'\n",
      " 'keeps' 'love' 'me' 'peaceful' 'play' 'relaxing' 'weekend']\n",
      "BoW Matrix:\n",
      " [[0 1 1 1 0 0 0 0 0 1 0 0 0 0 0]\n",
      " [0 1 0 0 0 1 0 1 0 0 0 1 0 1 0]\n",
      " [0 0 1 0 1 0 0 0 0 0 0 0 1 0 1]\n",
      " [1 1 0 1 0 0 1 0 1 0 1 0 0 0 0]]\n"
     ]
    }
   ],
   "source": [
    "from sklearn.feature_extraction.text import CountVectorizer\n",
    "\n",
    "vectorizer = CountVectorizer()\n",
    "X = vectorizer.fit_transform(corpus)\n",
    "\n",
    "print(\"Feature Names:\", vectorizer.get_feature_names_out())\n",
    "print(\"BoW Matrix:\\n\", X.toarray())\n"
   ]
  },
  {
   "cell_type": "code",
   "execution_count": null,
   "id": "21cc76a3",
   "metadata": {},
   "outputs": [],
   "source": [
    "✅ BoW Matrix (Each row = one sentence)\n",
    "✅ BoW Matrix (Each column = one word)\n",
    "Each row corresponds to one sentence.\n",
    "Each column → a word in the vocabulary.\n",
    "Each number → how many times that word appears in that sentence.\n",
    "Each 1 means the word appears at least once in that sentence, and 0 means it doesn’t appear\n",
    "\n",
    "| Sentence                                         | Description                                                              |\n",
    "| ------------------------------------------------ | ------------------------------------------------------------------------ |\n",
    "| **Row 1** → “I love badminton and dancing”       | The `1`s appear under *love*, *badminton*, *and*, *dancing* — correct!   |\n",
    "| **Row 2** → “Gardening is relaxing and peaceful” | The `1`s appear under *gardening*, *is*, *relaxing*, *and*, *peaceful*   |\n",
    "| **Row 3** → “I play badminton every weekend”     | The `1`s appear under *play*, *badminton*, *every*, *weekend*            |\n",
    "| **Row 4** → “Dancing keeps me active and happy”  | The `1`s appear under *dancing*, *keeps*, *me*, *active*, *and*, *happy* |\n"
   ]
  },
  {
   "cell_type": "markdown",
   "id": "aade43e9",
   "metadata": {},
   "source": [
    "![alt text](image-3.png)"
   ]
  },
  {
   "cell_type": "markdown",
   "id": "a9b2f704",
   "metadata": {},
   "source": [
    "⚠️ Limitations\n",
    "\n",
    "Ignores word order — “dog bites man” == “man bites dog”.\n",
    "\n",
    "Sparse matrix — large vocabulary → huge matrix with mostly zeros.\n",
    "\n",
    "No semantic meaning — treats “good” and “great” as unrelated.\n",
    "semantic similarity means \n",
    "similar words matches with similar vectors\n",
    "\n",
    "king , queen\n",
    "matches with word man , women"
   ]
  },
  {
   "cell_type": "markdown",
   "id": "67cb3bb6",
   "metadata": {},
   "source": [
    "🧩 What We Learned\n",
    "\n",
    "✅ The text is now represented numerically.\n",
    "✅ We can use this as input to ML models (e.g., Naive Bayes, Logistic Regression).\n",
    "✅ But — it doesn’t capture meaning (e.g., “happy” and “joyful” are treated as unrelated).\n",
    "\n",
    "That’s where the next step comes in.(TF_IDF)"
   ]
  }
 ],
 "metadata": {
  "kernelspec": {
   "display_name": "nlp_env",
   "language": "python",
   "name": "python3"
  },
  "language_info": {
   "codemirror_mode": {
    "name": "ipython",
    "version": 3
   },
   "file_extension": ".py",
   "mimetype": "text/x-python",
   "name": "python",
   "nbconvert_exporter": "python",
   "pygments_lexer": "ipython3",
   "version": "3.14.0"
  }
 },
 "nbformat": 4,
 "nbformat_minor": 5
}
