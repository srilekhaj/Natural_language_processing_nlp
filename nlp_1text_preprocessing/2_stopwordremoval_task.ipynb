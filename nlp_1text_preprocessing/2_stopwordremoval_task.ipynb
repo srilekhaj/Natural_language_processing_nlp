{
 "cells": [
  {
   "cell_type": "markdown",
   "id": "1541bd34",
   "metadata": {},
   "source": [
    "🧠 Your Practice Task\n",
    "\n",
    "Use the sentence:\n",
    "\n",
    "\"NLP helps computers to understand and generate human language easily.\"\n",
    "\n",
    "Perform stopword removal using both NLTK and spaCy.\n",
    "\n",
    "Print:\n",
    "\n",
    "Total word count before removal\n",
    "\n",
    "Word count after removal\n",
    "\n",
    "Compare the results — are both same or different?"
   ]
  },
  {
   "cell_type": "markdown",
   "id": "70990a7a",
   "metadata": {},
   "source": [
    "step 1  download punkt , punkt_tab , stopwords from nltk \n",
    "import nltk\n",
    "nltk.download(\"punkt\")\n",
    "nltk.download(\"punkt_tab\")\n",
    "nltk.download(\"stopwords\")"
   ]
  },
  {
   "cell_type": "code",
   "execution_count": 18,
   "id": "2ca1b6f3",
   "metadata": {},
   "outputs": [
    {
     "name": "stdout",
     "output_type": "stream",
     "text": [
      "Total word count before removal: 16, Word count after removal: 11\n",
      "Total word count before removal: 16,Word count after removal: 11\n"
     ]
    }
   ],
   "source": [
    "from nltk.tokenize import sent_tokenize, word_tokenize\n",
    "\n",
    "from nltk.corpus import stopwords\n",
    "\n",
    "text = \"NLP helps computers to understand and generate human language easily. It is a very helpful\"\n",
    "\n",
    "words_tokens = word_tokenize(text)\n",
    "\n",
    "stopping_words = set(stopwords.words(\"english\"))\n",
    "filtered_words = [word for word in words_tokens if word not in stopping_words]\n",
    "\n",
    "print(\"Total word count before removal: %i, Word count after removal: %i\" % (len(words_tokens), len(filtered_words)))\n",
    "\n",
    "print(f\"Total word count before removal: {len(words_tokens)},Word count after removal: {len(filtered_words)}\")\n",
    "\n"
   ]
  },
  {
   "cell_type": "code",
   "execution_count": null,
   "id": "7fb5d197",
   "metadata": {},
   "outputs": [],
   "source": []
  }
 ],
 "metadata": {
  "kernelspec": {
   "display_name": "nlp_env",
   "language": "python",
   "name": "python3"
  },
  "language_info": {
   "codemirror_mode": {
    "name": "ipython",
    "version": 3
   },
   "file_extension": ".py",
   "mimetype": "text/x-python",
   "name": "python",
   "nbconvert_exporter": "python",
   "pygments_lexer": "ipython3",
   "version": "3.14.0"
  }
 },
 "nbformat": 4,
 "nbformat_minor": 5
}
