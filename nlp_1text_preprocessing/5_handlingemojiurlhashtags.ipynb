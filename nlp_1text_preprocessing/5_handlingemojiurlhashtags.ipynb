{
 "cells": [
  {
   "cell_type": "markdown",
   "id": "09693422",
   "metadata": {},
   "source": [
    "# 🔹 Step 5: Handling Emojis, URLs, and Hashtags\n",
    "\n",
    "Concept: Clean social media and user-generated text.\n",
    "\n",
    "✅ We’ll learn:\n",
    "\n",
    "Regex for removing or replacing URLs\n",
    "\n",
    "Converting emojis to text (using emoji library)\n",
    "\n",
    "Handling hashtags and mentions\n",
    "\n",
    "\n",
    "This step is part of text normalization — especially useful for social media, reviews, or chat data, where emojis 😊, links 🔗, and hashtags #️⃣ appear often.\n",
    "\n",
    "\n",
    "Clean your text by removing or transforming:\n",
    "\n",
    "URLs\n",
    "\n",
    "Emojis\n",
    "\n",
    "Hashtags\n",
    "\n",
    "Mentions (@username)\n",
    "\n",
    "So that your NLP model focuses only on meaningful textual content."
   ]
  },
  {
   "cell_type": "markdown",
   "id": "06c83bd2",
   "metadata": {},
   "source": [
    "# 1️⃣ Removing URL"
   ]
  },
  {
   "cell_type": "code",
   "execution_count": 3,
   "id": "646f6130",
   "metadata": {},
   "outputs": [
    {
     "name": "stdout",
     "output_type": "stream",
     "text": [
      "Check this out:  or  or  website\n"
     ]
    }
   ],
   "source": [
    "import re\n",
    "\n",
    "text = \"Check this out: https://openai.com or http://example.org or www.worldnet.com website\"\n",
    "clean_text = re.sub(r'http\\S+|www\\S+', '', text)\n",
    "print(clean_text)\n"
   ]
  },
  {
   "cell_type": "markdown",
   "id": "4b587def",
   "metadata": {},
   "source": [
    "http\\S+ → matches all strings starting with http until whitespace.\n",
    "\n",
    "www\\S+ → matches URLs starting with www."
   ]
  },
  {
   "cell_type": "markdown",
   "id": "1ab79d5a",
   "metadata": {},
   "source": [
    "# 2️⃣ Remove Mentions (@user)"
   ]
  },
  {
   "cell_type": "code",
   "execution_count": 5,
   "id": "4a2b0060",
   "metadata": {},
   "outputs": [
    {
     "name": "stdout",
     "output_type": "stream",
     "text": [
      "Hey , great job on NLP!\n"
     ]
    }
   ],
   "source": [
    "text = \"Hey @srilekha, great job on NLP!\"\n",
    "clean_text = re.sub(r'@\\w+', '', text)\n",
    "print(clean_text)\n"
   ]
  },
  {
   "cell_type": "markdown",
   "id": "bda6d1c8",
   "metadata": {},
   "source": [
    "# 3️⃣ Handle Hashtags"
   ]
  },
  {
   "cell_type": "markdown",
   "id": "a70eaff1",
   "metadata": {},
   "source": [
    "# Option 1 - Removing words next to hash# \n",
    "Limitations is this removes most of the words "
   ]
  },
  {
   "cell_type": "code",
   "execution_count": 8,
   "id": "792e9627",
   "metadata": {},
   "outputs": [
    {
     "name": "stdout",
     "output_type": "stream",
     "text": [
      "I love  ,   \n"
     ]
    }
   ],
   "source": [
    "text = \"I love #NaturalLanguageProcessing #aritificialintelligence, #hopeai #aiworld #genai\"\n",
    "clean_text = re.sub(r'#\\w+', '', text)\n",
    "print(clean_text)\n"
   ]
  },
  {
   "cell_type": "markdown",
   "id": "23da0405",
   "metadata": {},
   "source": [
    "since we dont have any words after removing hastag words we have option 2\n",
    "# ✅ Option 2 – Keep the hashtag word (recommended for meaning)"
   ]
  },
  {
   "cell_type": "code",
   "execution_count": 9,
   "id": "eb30661c",
   "metadata": {},
   "outputs": [
    {
     "name": "stdout",
     "output_type": "stream",
     "text": [
      "I love NaturalLanguageProcessing aritificialintelligence, hopeai aiworld genai\n"
     ]
    }
   ],
   "source": [
    "clean_text = re.sub(r'#', '', text)\n",
    "print(clean_text)"
   ]
  },
  {
   "cell_type": "markdown",
   "id": "74a6259c",
   "metadata": {},
   "source": [
    "# 4️⃣ Remove Emojis (2 ways)"
   ]
  },
  {
   "cell_type": "code",
   "execution_count": 16,
   "id": "6ef847f7",
   "metadata": {},
   "outputs": [
    {
     "name": "stdout",
     "output_type": "stream",
     "text": [
      "I love NLP  I like aritificial intelligence ❤️ Robots 🤖 flag ️‍\n"
     ]
    }
   ],
   "source": [
    "import re\n",
    "emoji_pattern = re.compile(\n",
    "    \"[\"\n",
    "    u\"\\U0001F600-\\U0001F64F\"  # emoticons\n",
    "    u\"\\U0001F300-\\U0001F5FF\"  # symbols & pictographs\n",
    "    u\"\\U0001F680-\\U0001F6FF\"  # transport & map symbols\n",
    "    u\"\\U0001F1E0-\\U0001F1FF\"  # flags\n",
    "    \"]+\", flags=re.UNICODE)\n",
    "\n",
    "text = \"I love NLP 😍🚀 I like aritificial intelligence ❤️ Robots 🤖 flag 🏳️‍🌈\"\n",
    "clean_text = emoji_pattern.sub(r'', text)\n",
    "print(clean_text)\n",
    "\n"
   ]
  },
  {
   "cell_type": "markdown",
   "id": "e8f30d01",
   "metadata": {},
   "source": [
    "# Best fix is to use emoji python library"
   ]
  },
  {
   "cell_type": "code",
   "execution_count": 17,
   "id": "e0fcf74b",
   "metadata": {},
   "outputs": [
    {
     "name": "stdout",
     "output_type": "stream",
     "text": [
      "I love NLP  I like aritificial intelligence  Robots  flag \n"
     ]
    }
   ],
   "source": [
    "# pip install emoji\n",
    "import emoji\n",
    "\n",
    "text = \"I love NLP 😍🚀 I like aritificial intelligence ❤️ Robots 🤖 flag 🏳️‍🌈\"\n",
    "clean_text = emoji.replace_emoji(text, replace='')\n",
    "print(clean_text)\n"
   ]
  },
  {
   "cell_type": "markdown",
   "id": "85bf6cbd",
   "metadata": {},
   "source": [
    "## Convert the emoji into words so that model will understand meaning better if want \n",
    "## helpful for sentiment analysis usecase\n"
   ]
  },
  {
   "cell_type": "code",
   "execution_count": null,
   "id": "89ded37c",
   "metadata": {},
   "outputs": [],
   "source": [
    "import emoji\n",
    "\n",
    "\n",
    "text = \"I love NLP 😍🚀 I like artificial intelligence ❤️ Robots 🤖 flag 🏳️‍🌈\"\n",
    "clean_text = emoji.demojize(text)\n",
    "print(clean_text)"
   ]
  },
  {
   "cell_type": "code",
   "execution_count": null,
   "id": "85a1bd7f",
   "metadata": {},
   "outputs": [],
   "source": []
  }
 ],
 "metadata": {
  "kernelspec": {
   "display_name": "nlp_env",
   "language": "python",
   "name": "python3"
  },
  "language_info": {
   "codemirror_mode": {
    "name": "ipython",
    "version": 3
   },
   "file_extension": ".py",
   "mimetype": "text/x-python",
   "name": "python",
   "nbconvert_exporter": "python",
   "pygments_lexer": "ipython3",
   "version": "3.14.0"
  }
 },
 "nbformat": 4,
 "nbformat_minor": 5
}
