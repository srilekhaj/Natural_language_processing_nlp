{
 "cells": [
  {
   "cell_type": "markdown",
   "id": "f9743312",
   "metadata": {},
   "source": [
    "# 🔹 Step 6: POS Tagging (Part-of-Speech)\n",
    "\n",
    "Concept: Identifying grammatical categories (noun, verb, adjective, etc.)\n",
    "\n",
    "- Goal: Identify the grammatical role of each word — noun, verb, adjective, etc.\n",
    "- Use case: Helps in syntactic analysis, sentiment, and entity extraction.\n",
    "\n",
    "✅ We’ll cover:\n",
    "\n",
    "POS tagging with NLTK and spaCy\n",
    "\n",
    "How POS tags help in tasks like NER, lemmatization, and syntax parsing"
   ]
  },
  {
   "cell_type": "markdown",
   "id": "a8518e7e",
   "metadata": {},
   "source": [
    "# Downloading the necessary packages for POS"
   ]
  },
  {
   "cell_type": "code",
   "execution_count": 3,
   "id": "60712808",
   "metadata": {},
   "outputs": [
    {
     "name": "stderr",
     "output_type": "stream",
     "text": [
      "[nltk_data] Downloading package averaged_perceptron_tagger to\n",
      "[nltk_data]     c:\\Users\\jsril\\anaconda3\\envs\\nlp_env\\nltk_data...\n",
      "[nltk_data]   Package averaged_perceptron_tagger is already up-to-\n",
      "[nltk_data]       date!\n",
      "[nltk_data] Downloading package averaged_perceptron_tagger_eng to\n",
      "[nltk_data]     c:\\Users\\jsril\\anaconda3\\envs\\nlp_env\\nltk_data...\n",
      "[nltk_data]   Unzipping taggers\\averaged_perceptron_tagger_eng.zip.\n"
     ]
    },
    {
     "name": "stdout",
     "output_type": "stream",
     "text": [
      "[('Apple', 'NNP'), ('is', 'VBZ'), ('looking', 'VBG'), ('at', 'IN'), ('buying', 'VBG'), ('U.K.', 'NNP'), ('startup', 'NN'), ('for', 'IN'), ('$', '$'), ('1', 'CD'), ('billion', 'CD')]\n"
     ]
    }
   ],
   "source": [
    "import nltk\n",
    "from nltk import word_tokenize, pos_tag\n",
    "\n",
    "# # Download tagger model\n",
    "# nltk.download('punkt')\n",
    "nltk.download('averaged_perceptron_tagger')\n",
    "nltk.download('averaged_perceptron_tagger_eng')\n"
   ]
  },
  {
   "cell_type": "markdown",
   "id": "1721a6d4",
   "metadata": {},
   "source": [
    "Each word tokens are tagged to each parts of speech (noun, adjective etc)"
   ]
  },
  {
   "cell_type": "code",
   "execution_count": 4,
   "id": "9da216d7",
   "metadata": {},
   "outputs": [
    {
     "name": "stdout",
     "output_type": "stream",
     "text": [
      "[('Apple', 'NNP'), ('is', 'VBZ'), ('looking', 'VBG'), ('at', 'IN'), ('buying', 'VBG'), ('U.K.', 'NNP'), ('startup', 'NN'), ('for', 'IN'), ('$', '$'), ('1', 'CD'), ('billion', 'CD')]\n"
     ]
    }
   ],
   "source": [
    "\n",
    "text = \"Apple is looking at buying U.K. startup for $1 billion\"\n",
    "\n",
    "# Tokenize and POS tag\n",
    "tokens = word_tokenize(text)\n",
    "pos_tags = pos_tag(tokens)\n",
    "\n",
    "print(pos_tags)\n"
   ]
  },
  {
   "cell_type": "code",
   "execution_count": 6,
   "id": "0ace4939",
   "metadata": {},
   "outputs": [
    {
     "name": "stderr",
     "output_type": "stream",
     "text": [
      "[nltk_data] Downloading package tagsets_json to\n",
      "[nltk_data]     c:\\Users\\jsril\\anaconda3\\envs\\nlp_env\\nltk_data...\n"
     ]
    },
    {
     "name": "stdout",
     "output_type": "stream",
     "text": [
      "NNP: noun, proper, singular\n",
      "    Motown Venneboerger Czestochwa Ranzer Conchita Trumplane Christos\n",
      "    Oceanside Escobar Kreisler Sawyer Cougar Yvette Ervin ODI Darryl CTCA\n",
      "    Shannon A.K.C. Meltex Liverpool ...\n"
     ]
    },
    {
     "name": "stderr",
     "output_type": "stream",
     "text": [
      "[nltk_data]   Unzipping help\\tagsets_json.zip.\n"
     ]
    }
   ],
   "source": [
    "nltk.download('tagsets_json')\n",
    "\n"
   ]
  },
  {
   "cell_type": "code",
   "execution_count": 7,
   "id": "e2c1e0a8",
   "metadata": {},
   "outputs": [
    {
     "name": "stdout",
     "output_type": "stream",
     "text": [
      "NNP: noun, proper, singular\n",
      "    Motown Venneboerger Czestochwa Ranzer Conchita Trumplane Christos\n",
      "    Oceanside Escobar Kreisler Sawyer Cougar Yvette Ervin ODI Darryl CTCA\n",
      "    Shannon A.K.C. Meltex Liverpool ...\n"
     ]
    }
   ],
   "source": [
    "nltk.help.upenn_tagset('NNP')"
   ]
  },
  {
   "cell_type": "code",
   "execution_count": 8,
   "id": "1fafa5d1",
   "metadata": {},
   "outputs": [
    {
     "name": "stdout",
     "output_type": "stream",
     "text": [
      "VBZ: verb, present tense, 3rd person singular\n",
      "    bases reconstructs marks mixes displeases seals carps weaves snatches\n",
      "    slumps stretches authorizes smolders pictures emerges stockpiles\n",
      "    seduces fizzes uses bolsters slaps speaks pleads ...\n"
     ]
    }
   ],
   "source": [
    "nltk.help.upenn_tagset('VBZ')"
   ]
  },
  {
   "cell_type": "markdown",
   "id": "91f1b958",
   "metadata": {},
   "source": [
    "NNP → Proper noun\n",
    "\n",
    "VBZ → Verb, 3rd person singular\n",
    "\n",
    "VBG → Verb, gerund or present participle\n",
    "\n",
    "IN → Preposition\n",
    "\n",
    "CD → Cardinal number"
   ]
  },
  {
   "cell_type": "code",
   "execution_count": null,
   "id": "c39c4f92",
   "metadata": {},
   "outputs": [],
   "source": []
  }
 ],
 "metadata": {
  "kernelspec": {
   "display_name": "nlp_env",
   "language": "python",
   "name": "python3"
  },
  "language_info": {
   "codemirror_mode": {
    "name": "ipython",
    "version": 3
   },
   "file_extension": ".py",
   "mimetype": "text/x-python",
   "name": "python",
   "nbconvert_exporter": "python",
   "pygments_lexer": "ipython3",
   "version": "3.14.0"
  }
 },
 "nbformat": 4,
 "nbformat_minor": 5
}
