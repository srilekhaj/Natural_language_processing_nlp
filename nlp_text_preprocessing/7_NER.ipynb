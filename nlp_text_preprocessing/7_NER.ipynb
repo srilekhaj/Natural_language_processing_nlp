{
 "cells": [
  {
   "cell_type": "markdown",
   "id": "6d3aca13",
   "metadata": {},
   "source": [
    "# 🔹 Step 7: Named Entity Recognition (NER)\n",
    "\n",
    "Concept: Extracting entities like names, places, organizations, dates, etc.\n",
    "\n",
    "✅ We’ll learn:\n",
    "\n",
    "NER using spaCy\n",
    "\n",
    "Visualizing entities in text (displacy)\n",
    "\n",
    "NLTK has a built-in chunker for entities, but it’s rule-based (less accurate than SpaCy)."
   ]
  },
  {
   "cell_type": "code",
   "execution_count": null,
   "id": "afd04436",
   "metadata": {},
   "outputs": [
    {
     "name": "stderr",
     "output_type": "stream",
     "text": [
      "[nltk_data] Downloading package maxent_ne_chunker_tab to\n",
      "[nltk_data]     c:\\Users\\jsril\\anaconda3\\envs\\nlp_env\\nltk_data...\n",
      "[nltk_data]   Unzipping chunkers\\maxent_ne_chunker_tab.zip.\n"
     ]
    },
    {
     "data": {
      "text/plain": [
       "True"
      ]
     },
     "execution_count": 1,
     "metadata": {},
     "output_type": "execute_result"
    }
   ],
   "source": [
    "import nltk\n",
    "# nltk.download('maxent_ne_chunker')\n",
    "nltk.download('words')\n",
    "nltk.download('maxent_ne_chunker_tab')\n",
    "\n"
   ]
  },
  {
   "cell_type": "code",
   "execution_count": null,
   "id": "9f218596",
   "metadata": {},
   "outputs": [],
   "source": [
    "# !pip install numpy"
   ]
  },
  {
   "cell_type": "markdown",
   "id": "b3f1b731",
   "metadata": {},
   "source": [
    "Additional Info:\n",
    "\n",
    "NLTK's ne_chunk() uses a maximum entropy classifier, which requires NumPy for its internal computations.\n",
    "NumPy, a required dependency for NLTK's Named Entity Recognition (NER) model, need to install in environment. NLTK's NER chunker relies on NumPy for some internal processing."
   ]
  },
  {
   "cell_type": "code",
   "execution_count": null,
   "id": "eabebbeb",
   "metadata": {},
   "outputs": [
    {
     "ename": "ModuleNotFoundError",
     "evalue": "No module named 'numpy'",
     "output_type": "error",
     "traceback": [
      "\u001b[31m---------------------------------------------------------------------------\u001b[39m",
      "\u001b[31mModuleNotFoundError\u001b[39m                       Traceback (most recent call last)",
      "\u001b[36mCell\u001b[39m\u001b[36m \u001b[39m\u001b[32mIn[2]\u001b[39m\u001b[32m, line 13\u001b[39m\n\u001b[32m     10\u001b[39m pos_tags = pos_tag(tokens)\n\u001b[32m     12\u001b[39m \u001b[38;5;66;03m# Named Entity Recognition\u001b[39;00m\n\u001b[32m---> \u001b[39m\u001b[32m13\u001b[39m chunks = \u001b[43mne_chunk\u001b[49m\u001b[43m(\u001b[49m\u001b[43mpos_tags\u001b[49m\u001b[43m)\u001b[49m\n\u001b[32m     15\u001b[39m \u001b[38;5;28mprint\u001b[39m(chunks)\n",
      "\u001b[36mFile \u001b[39m\u001b[32mc:\\Users\\jsril\\anaconda3\\envs\\nlp_env\\Lib\\site-packages\\nltk\\chunk\\__init__.py:192\u001b[39m, in \u001b[36mne_chunk\u001b[39m\u001b[34m(tagged_tokens, binary)\u001b[39m\n\u001b[32m    190\u001b[39m     chunker = ne_chunker(fmt=\u001b[33m\"\u001b[39m\u001b[33mbinary\u001b[39m\u001b[33m\"\u001b[39m)\n\u001b[32m    191\u001b[39m \u001b[38;5;28;01melse\u001b[39;00m:\n\u001b[32m--> \u001b[39m\u001b[32m192\u001b[39m     chunker = \u001b[43mne_chunker\u001b[49m\u001b[43m(\u001b[49m\u001b[43m)\u001b[49m\n\u001b[32m    193\u001b[39m \u001b[38;5;28;01mreturn\u001b[39;00m chunker.parse(tagged_tokens)\n",
      "\u001b[36mFile \u001b[39m\u001b[32mc:\\Users\\jsril\\anaconda3\\envs\\nlp_env\\Lib\\site-packages\\nltk\\chunk\\__init__.py:174\u001b[39m, in \u001b[36mne_chunker\u001b[39m\u001b[34m(fmt)\u001b[39m\n\u001b[32m    170\u001b[39m \u001b[38;5;28;01mdef\u001b[39;00m\u001b[38;5;250m \u001b[39m\u001b[34mne_chunker\u001b[39m(fmt=\u001b[33m\"\u001b[39m\u001b[33mmulticlass\u001b[39m\u001b[33m\"\u001b[39m):\n\u001b[32m    171\u001b[39m \u001b[38;5;250m    \u001b[39m\u001b[33;03m\"\"\"\u001b[39;00m\n\u001b[32m    172\u001b[39m \u001b[33;03m    Load NLTK's currently recommended named entity chunker.\u001b[39;00m\n\u001b[32m    173\u001b[39m \u001b[33;03m    \"\"\"\u001b[39;00m\n\u001b[32m--> \u001b[39m\u001b[32m174\u001b[39m     \u001b[38;5;28;01mreturn\u001b[39;00m \u001b[43mMaxent_NE_Chunker\u001b[49m\u001b[43m(\u001b[49m\u001b[43mfmt\u001b[49m\u001b[43m)\u001b[49m\n",
      "\u001b[36mFile \u001b[39m\u001b[32mc:\\Users\\jsril\\anaconda3\\envs\\nlp_env\\Lib\\site-packages\\nltk\\chunk\\named_entity.py:330\u001b[39m, in \u001b[36mMaxent_NE_Chunker.__init__\u001b[39m\u001b[34m(self, fmt)\u001b[39m\n\u001b[32m    328\u001b[39m \u001b[38;5;28mself\u001b[39m._fmt = fmt\n\u001b[32m    329\u001b[39m \u001b[38;5;28mself\u001b[39m._tab_dir = find(\u001b[33mf\u001b[39m\u001b[33m\"\u001b[39m\u001b[33mchunkers/maxent_ne_chunker_tab/english_ace_\u001b[39m\u001b[38;5;132;01m{\u001b[39;00mfmt\u001b[38;5;132;01m}\u001b[39;00m\u001b[33m/\u001b[39m\u001b[33m\"\u001b[39m)\n\u001b[32m--> \u001b[39m\u001b[32m330\u001b[39m \u001b[38;5;28;43mself\u001b[39;49m\u001b[43m.\u001b[49m\u001b[43mload_params\u001b[49m\u001b[43m(\u001b[49m\u001b[43m)\u001b[49m\n",
      "\u001b[36mFile \u001b[39m\u001b[32mc:\\Users\\jsril\\anaconda3\\envs\\nlp_env\\Lib\\site-packages\\nltk\\chunk\\named_entity.py:335\u001b[39m, in \u001b[36mMaxent_NE_Chunker.load_params\u001b[39m\u001b[34m(self)\u001b[39m\n\u001b[32m    332\u001b[39m \u001b[38;5;28;01mdef\u001b[39;00m\u001b[38;5;250m \u001b[39m\u001b[34mload_params\u001b[39m(\u001b[38;5;28mself\u001b[39m):\n\u001b[32m    333\u001b[39m     \u001b[38;5;28;01mfrom\u001b[39;00m\u001b[38;5;250m \u001b[39m\u001b[34;01mnltk\u001b[39;00m\u001b[34;01m.\u001b[39;00m\u001b[34;01mclassify\u001b[39;00m\u001b[34;01m.\u001b[39;00m\u001b[34;01mmaxent\u001b[39;00m\u001b[38;5;250m \u001b[39m\u001b[38;5;28;01mimport\u001b[39;00m BinaryMaxentFeatureEncoding, load_maxent_params\n\u001b[32m--> \u001b[39m\u001b[32m335\u001b[39m     wgt, mpg, lab, aon = \u001b[43mload_maxent_params\u001b[49m\u001b[43m(\u001b[49m\u001b[38;5;28;43mself\u001b[39;49m\u001b[43m.\u001b[49m\u001b[43m_tab_dir\u001b[49m\u001b[43m)\u001b[49m\n\u001b[32m    336\u001b[39m     mc = MaxentClassifier(\n\u001b[32m    337\u001b[39m         BinaryMaxentFeatureEncoding(lab, mpg, alwayson_features=aon), wgt\n\u001b[32m    338\u001b[39m     )\n\u001b[32m    339\u001b[39m     \u001b[38;5;28mself\u001b[39m._tagger = NEChunkParserTagger(classifier=mc)\n",
      "\u001b[36mFile \u001b[39m\u001b[32mc:\\Users\\jsril\\anaconda3\\envs\\nlp_env\\Lib\\site-packages\\nltk\\classify\\maxent.py:1565\u001b[39m, in \u001b[36mload_maxent_params\u001b[39m\u001b[34m(tab_dir)\u001b[39m\n\u001b[32m   1564\u001b[39m \u001b[38;5;28;01mdef\u001b[39;00m\u001b[38;5;250m \u001b[39m\u001b[34mload_maxent_params\u001b[39m(tab_dir):\n\u001b[32m-> \u001b[39m\u001b[32m1565\u001b[39m     \u001b[38;5;28;01mimport\u001b[39;00m\u001b[38;5;250m \u001b[39m\u001b[34;01mnumpy\u001b[39;00m\n\u001b[32m   1567\u001b[39m     \u001b[38;5;28;01mfrom\u001b[39;00m\u001b[38;5;250m \u001b[39m\u001b[34;01mnltk\u001b[39;00m\u001b[34;01m.\u001b[39;00m\u001b[34;01mtabdata\u001b[39;00m\u001b[38;5;250m \u001b[39m\u001b[38;5;28;01mimport\u001b[39;00m MaxentDecoder\n\u001b[32m   1569\u001b[39m     mdec = MaxentDecoder()\n",
      "\u001b[31mModuleNotFoundError\u001b[39m: No module named 'numpy'"
     ]
    }
   ],
   "source": [
    "from nltk import ne_chunk\n",
    "from nltk import word_tokenize, pos_tag\n",
    "\n",
    "text = \"Apple is looking at buying U.K. startup for $1 billion\"\n",
    "\n",
    "# Tokenize and POS tag\n",
    "tokens = word_tokenize(text)\n",
    "\n",
    "# POS tagging first\n",
    "pos_tags = pos_tag(tokens)\n",
    "\n",
    "# Named Entity Recognition\n",
    "chunks = ne_chunk(pos_tags)\n",
    "\n",
    "print(chunks)"
   ]
  }
 ],
 "metadata": {
  "kernelspec": {
   "display_name": "nlp_env",
   "language": "python",
   "name": "python3"
  },
  "language_info": {
   "codemirror_mode": {
    "name": "ipython",
    "version": 3
   },
   "file_extension": ".py",
   "mimetype": "text/x-python",
   "name": "python",
   "nbconvert_exporter": "python",
   "pygments_lexer": "ipython3",
   "version": "3.14.0"
  }
 },
 "nbformat": 4,
 "nbformat_minor": 5
}
