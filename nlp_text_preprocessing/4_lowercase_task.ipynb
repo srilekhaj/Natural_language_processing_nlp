{
 "cells": [
  {
   "cell_type": "markdown",
   "id": "caa7d1a1",
   "metadata": {},
   "source": [
    "# Step 4 Task"
   ]
  },
  {
   "cell_type": "code",
   "execution_count": 3,
   "id": "488d2d51",
   "metadata": {},
   "outputs": [],
   "source": [
    "text = \"The price of the new NLP book is $39.99! Get it now at https://bookstore.com.\""
   ]
  },
  {
   "cell_type": "markdown",
   "id": "4ea72261",
   "metadata": {},
   "source": [
    "Remove:\n",
    "\n",
    "Numbers/ digits\n",
    "\n",
    "Punctuation\n",
    "\n",
    "Convert all words to lowercase"
   ]
  },
  {
   "cell_type": "code",
   "execution_count": 4,
   "id": "06025b06",
   "metadata": {},
   "outputs": [
    {
     "name": "stdout",
     "output_type": "stream",
     "text": [
      "the price of the new nlp book is get it now at httpsbookstorecom\n"
     ]
    }
   ],
   "source": [
    "import re\n",
    "\n",
    "# Remove numbers and punctuation\n",
    "clean_text = re.sub(r'[^a-zA-Z\\s]', '', text)\n",
    "\n",
    "# Remove extra spaces\n",
    "clean_text = re.sub(r'\\s+', ' ', clean_text).strip()\n",
    "\n",
    "# Lowercase\n",
    "clean_text = clean_text.lower()\n",
    "\n",
    "print(clean_text)\n"
   ]
  },
  {
   "cell_type": "code",
   "execution_count": 5,
   "id": "9d18a700",
   "metadata": {},
   "outputs": [],
   "source": [
    "# url will be removed on step 5"
   ]
  },
  {
   "cell_type": "code",
   "execution_count": null,
   "id": "8ae10f78",
   "metadata": {},
   "outputs": [],
   "source": []
  }
 ],
 "metadata": {
  "kernelspec": {
   "display_name": "nlp_env",
   "language": "python",
   "name": "python3"
  },
  "language_info": {
   "codemirror_mode": {
    "name": "ipython",
    "version": 3
   },
   "file_extension": ".py",
   "mimetype": "text/x-python",
   "name": "python",
   "nbconvert_exporter": "python",
   "pygments_lexer": "ipython3",
   "version": "3.14.0"
  }
 },
 "nbformat": 4,
 "nbformat_minor": 5
}
