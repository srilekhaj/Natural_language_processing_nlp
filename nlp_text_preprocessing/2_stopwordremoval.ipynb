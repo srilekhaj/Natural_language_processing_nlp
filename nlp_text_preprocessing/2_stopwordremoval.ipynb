{
 "cells": [
  {
   "cell_type": "markdown",
   "id": "dbb360e3",
   "metadata": {},
   "source": [
    "# 🔹 Step 2: Stopword Removal\n",
    "\n",
    "**Concept: Removing common filler words that don’t add meaning.**\n",
    "\n",
    "- (Examples: the, is, of, and, this)\n",
    "\n",
    "\n",
    "🧠 Why Remove Stopwords?\n",
    "\n",
    "Let’s say your sentence is:\n",
    "\n",
    "**“The weather is very nice today and the sun is shining.”**\n",
    "\n",
    "After removing stopwords:\n",
    "\n",
    "**“weather nice today sun shining”**\n",
    "\n",
    "- ✅ Makes the text concise and meaningful\n",
    "- ✅ Reduces noise for algorithms like TF-IDF or classification models\n",
    "\n",
    "\n",
    "✅ We’ll learn:\n",
    "\n",
    "How to use NLTK’s stopword list\n",
    "\n",
    "How to customize it for your use case"
   ]
  },
  {
   "cell_type": "markdown",
   "id": "1ef3b6e1",
   "metadata": {},
   "source": [
    "# Redoing Step1 Tokenization for removing stop words"
   ]
  },
  {
   "cell_type": "code",
   "execution_count": null,
   "id": "e5b84ffe",
   "metadata": {},
   "outputs": [
    {
     "name": "stdout",
     "output_type": "stream",
     "text": [
      "Sentence Tokenization: ['I am going to the store because I need to buy some things for my family and I will be back soon.']\n",
      "Word Tokenization: ['I', 'am', 'going', 'to', 'the', 'store', 'because', 'I', 'need', 'to', 'buy', 'some', 'things', 'for', 'my', 'family', 'and', 'I', 'will', 'be', 'back', 'soon', '.']\n"
     ]
    }
   ],
   "source": [
    "from nltk.tokenize import sent_tokenize, word_tokenize\n",
    "\n",
    "text = \"I am going to the store because I need to buy some things for my family and I will be back soon.\"\n",
    "\n",
    "# Sentence Tokenization\n",
    "sentences = sent_tokenize(text)\n",
    "print(\"Sentence Tokenization:\", sentences)\n",
    "\n",
    "# Word Tokenization\n",
    "words_tokens = word_tokenize(text)\n",
    "print(\"Word Tokenization:\", words_tokens)\n"
   ]
  },
  {
   "cell_type": "markdown",
   "id": "dcffd23e",
   "metadata": {},
   "source": [
    "### 📝 Note:\n",
    "### word_tokenize keeps punctuation as separate tokens (which can be useful later)."
   ]
  },
  {
   "cell_type": "markdown",
   "id": "cb9b23fa",
   "metadata": {},
   "source": [
    "# STEP 2 : Dowloading the STOP WORDS"
   ]
  },
  {
   "cell_type": "code",
   "execution_count": 1,
   "id": "44672c10",
   "metadata": {},
   "outputs": [
    {
     "name": "stderr",
     "output_type": "stream",
     "text": [
      "[nltk_data] Downloading package stopwords to\n",
      "[nltk_data]     c:\\Users\\jsril\\anaconda3\\envs\\nlp_env\\nltk_data...\n",
      "[nltk_data]   Unzipping corpora\\stopwords.zip.\n"
     ]
    },
    {
     "data": {
      "text/plain": [
       "True"
      ]
     },
     "execution_count": 1,
     "metadata": {},
     "output_type": "execute_result"
    }
   ],
   "source": [
    "import nltk\n",
    "nltk.download('stopwords')\n"
   ]
  },
  {
   "cell_type": "code",
   "execution_count": 21,
   "id": "17374991",
   "metadata": {},
   "outputs": [
    {
     "name": "stdout",
     "output_type": "stream",
     "text": [
      "STOP WORDS IN NLTK :\n",
      " ['a', 'about', 'above', 'after', 'again', 'against', 'ain', 'all', 'am', 'an', 'and', 'any', 'are', 'aren', \"aren't\", 'as', 'at', 'be', 'because', 'been', 'before', 'being', 'below', 'between', 'both', 'but', 'by', 'can', 'couldn', \"couldn't\", 'd', 'did', 'didn', \"didn't\", 'do', 'does', 'doesn', \"doesn't\", 'doing', 'don', \"don't\", 'down', 'during', 'each', 'few', 'for', 'from', 'further', 'had', 'hadn', \"hadn't\", 'has', 'hasn', \"hasn't\", 'have', 'haven', \"haven't\", 'having', 'he', \"he'd\", \"he'll\", 'her', 'here', 'hers', 'herself', \"he's\", 'him', 'himself', 'his', 'how', 'i', \"i'd\", 'if', \"i'll\", \"i'm\", 'in', 'into', 'is', 'isn', \"isn't\", 'it', \"it'd\", \"it'll\", \"it's\", 'its', 'itself', \"i've\", 'just', 'll', 'm', 'ma', 'me', 'mightn', \"mightn't\", 'more', 'most', 'mustn', \"mustn't\", 'my', 'myself', 'needn', \"needn't\", 'no', 'nor', 'not', 'now', 'o', 'of', 'off', 'on', 'once', 'only', 'or', 'other', 'our', 'ours', 'ourselves', 'out', 'over', 'own', 're', 's', 'same', 'shan', \"shan't\", 'she', \"she'd\", \"she'll\", \"she's\", 'should', 'shouldn', \"shouldn't\", \"should've\", 'so', 'some', 'such', 't', 'than', 'that', \"that'll\", 'the', 'their', 'theirs', 'them', 'themselves', 'then', 'there', 'these', 'they', \"they'd\", \"they'll\", \"they're\", \"they've\", 'this', 'those', 'through', 'to', 'too', 'under', 'until', 'up', 've', 'very', 'was', 'wasn', \"wasn't\", 'we', \"we'd\", \"we'll\", \"we're\", 'were', 'weren', \"weren't\", \"we've\", 'what', 'when', 'where', 'which', 'while', 'who', 'whom', 'why', 'will', 'with', 'won', \"won't\", 'wouldn', \"wouldn't\", 'y', 'you', \"you'd\", \"you'll\", 'your', \"you're\", 'yours', 'yourself', 'yourselves', \"you've\"]\n"
     ]
    }
   ],
   "source": [
    "from nltk.corpus import stopwords\n",
    "stopwrd = stopwords.words(\"english\") \n",
    "print(\"STOP WORDS IN NLTK :\\n\", stopwrd)\n",
    "filtered_words = [ word  for word in words_tokens if word.lower() not in stopwrd ]"
   ]
  },
  {
   "cell_type": "markdown",
   "id": "b3cca9dc",
   "metadata": {},
   "source": [
    "STOPWORDS IN NLTK:\n",
    "['a', 'about', 'above', 'after', 'again', 'against', 'ain', 'all', 'am', 'an', 'and', 'any', 'are', 'aren', \"aren't\", 'as', 'at', 'be', 'because', 'been', 'before', 'being', 'below', 'between', 'both', 'but', 'by', 'can', 'couldn', \"couldn't\", 'd', 'did', 'didn', \"didn't\", 'do', 'does', 'doesn', \"doesn't\", 'doing', 'don', \"don't\", 'down', 'during', 'each', 'few', 'for', 'from', 'further', 'had', 'hadn', \"hadn't\", 'has', 'hasn', \"hasn't\", 'have', 'haven', \"haven't\", 'having', 'he', \"he'd\", \"he'll\", 'her', 'here', 'hers', 'herself', \"he's\", 'him', 'himself', 'his', 'how', 'i', \"i'd\", 'if', \"i'll\", \"i'm\", 'in', 'into', 'is', 'isn', \"isn't\", 'it', \"it'd\", \"it'll\", \"it's\", 'its', 'itself', \"i've\", 'just', 'll', 'm', 'ma', 'me', 'mightn', \"mightn't\", 'more', 'most', 'mustn', \"mustn't\", 'my', 'myself', 'needn', \"needn't\", 'no', 'nor', 'not', 'now', 'o', 'of', 'off', 'on', 'once', 'only', 'or', 'other', 'our', 'ours', 'ourselves', 'out', 'over', 'own', 're', 's', 'same', 'shan', \"shan't\", 'she', \"she'd\", \"she'll\", \"she's\", 'should', 'shouldn', \"shouldn't\", \"should've\", 'so', 'some', 'such', 't', 'than', 'that', \"that'll\", 'the', 'their', 'theirs', 'them', 'themselves', 'then', 'there', 'these', 'they', \"they'd\", \"they'll\", \"they're\", \"they've\", 'this', 'those', 'through', 'to', 'too', 'under', 'until', 'up', 've', 'very', 'was', 'wasn', \"wasn't\", 'we', \"we'd\", \"we'll\", \"we're\", 'were', 'weren', \"weren't\", \"we've\", 'what', 'when', 'where', 'which', 'while', 'who', 'whom', 'why', 'will', 'with', 'won', \"won't\", 'wouldn', \"wouldn't\", 'y', 'you', \"you'd\", \"you'll\", 'your', \"you're\", 'yours', 'yourself', 'yourselves', \"you've\"]"
   ]
  },
  {
   "cell_type": "code",
   "execution_count": 22,
   "id": "eec03641",
   "metadata": {},
   "outputs": [
    {
     "data": {
      "text/plain": [
       "['going', 'store', 'need', 'buy', 'things', 'family', 'back', 'soon', '.']"
      ]
     },
     "execution_count": 22,
     "metadata": {},
     "output_type": "execute_result"
    }
   ],
   "source": [
    "filtered_words"
   ]
  },
  {
   "cell_type": "markdown",
   "id": "059c7dc2",
   "metadata": {},
   "source": [
    "# Overall code"
   ]
  },
  {
   "cell_type": "code",
   "execution_count": null,
   "id": "1f27f981",
   "metadata": {},
   "outputs": [],
   "source": [
    "from nltk.corpus import stopwords\n",
    "from nltk.tokenize import word_tokenize\n",
    "\n",
    "text = \"The weather is very nice today and the sun is shining.\"\n",
    "words = word_tokenize(text)\n",
    "\n",
    "# English stopwords\n",
    "stop_words = set(stopwords.words('english'))\n",
    "\n",
    "# Remove stopwords\n",
    "filtered_words = [word for word in words if word.lower() not in stop_words]\n",
    "\n",
    "print(\"Original Words:\", words)\n",
    "print(\"Filtered Words:\", filtered_words)\n"
   ]
  },
  {
   "cell_type": "code",
   "execution_count": null,
   "id": "1547a9d5",
   "metadata": {},
   "outputs": [],
   "source": []
  }
 ],
 "metadata": {
  "kernelspec": {
   "display_name": "nlp_env",
   "language": "python",
   "name": "python3"
  },
  "language_info": {
   "codemirror_mode": {
    "name": "ipython",
    "version": 3
   },
   "file_extension": ".py",
   "mimetype": "text/x-python",
   "name": "python",
   "nbconvert_exporter": "python",
   "pygments_lexer": "ipython3",
   "version": "3.14.0"
  }
 },
 "nbformat": 4,
 "nbformat_minor": 5
}
