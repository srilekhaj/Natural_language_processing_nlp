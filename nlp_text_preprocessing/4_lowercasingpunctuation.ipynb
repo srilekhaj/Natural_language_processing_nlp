{
 "cells": [
  {
   "cell_type": "markdown",
   "id": "41e231ce",
   "metadata": {},
   "source": [
    "# 🔹 Step 4: Lowercasing, Punctuation, and Noise Removal\n",
    "\n",
    "Concept: Normalize the text — make it uniform and noise-free.\n",
    "\n",
    "✅ We’ll cover:\n",
    "Lowercasing all words\n",
    "\n",
    "Removing punctuation using regex\n",
    "\n",
    "Removing numbers, extra spaces, etc"
   ]
  },
  {
   "cell_type": "markdown",
   "id": "5eba844d",
   "metadata": {},
   "source": [
    "# 1️⃣ Lowercasing"
   ]
  },
  {
   "cell_type": "code",
   "execution_count": 21,
   "id": "0b391f99",
   "metadata": {},
   "outputs": [
    {
     "name": "stdout",
     "output_type": "stream",
     "text": [
      "natural language processing helps computers. understand? nlp version 3.0  is amazing!!\n"
     ]
    }
   ],
   "source": [
    "text = \"Natural Language Processing Helps Computers. Understand? NLP version 3.0  is AMazing!!\"\n",
    "text_lower = text.lower()\n",
    "print(text_lower)\n"
   ]
  },
  {
   "cell_type": "markdown",
   "id": "69691c8f",
   "metadata": {},
   "source": [
    "# 2️⃣ Punctuation Removal"
   ]
  },
  {
   "cell_type": "markdown",
   "id": "05c9e9c7",
   "metadata": {},
   "source": [
    "Use string.punctuation or regex to remove symbols.\n",
    "\n",
    "Example with re:"
   ]
  },
  {
   "cell_type": "code",
   "execution_count": 23,
   "id": "555a9cd9",
   "metadata": {},
   "outputs": [
    {
     "name": "stdout",
     "output_type": "stream",
     "text": [
      "natural language processing helps computers understand nlp version 30  is amazing\n"
     ]
    }
   ],
   "source": [
    "import re\n",
    "# remove punctuation\n",
    "clean_text = re.sub(r'[^\\w\\s]', '', text_lower)   # from step 1\n",
    "print(clean_text)\n"
   ]
  },
  {
   "cell_type": "markdown",
   "id": "05a71621",
   "metadata": {},
   "source": [
    "Example with string.punctuation:"
   ]
  },
  {
   "cell_type": "code",
   "execution_count": 24,
   "id": "38c8463a",
   "metadata": {},
   "outputs": [
    {
     "data": {
      "text/plain": [
       "'!\"#$%&\\'()*+,-./:;<=>?@[\\\\]^_`{|}~'"
      ]
     },
     "execution_count": 24,
     "metadata": {},
     "output_type": "execute_result"
    }
   ],
   "source": [
    "import string\n",
    "string.punctuation"
   ]
  },
  {
   "cell_type": "code",
   "execution_count": 25,
   "id": "cbdbaa89",
   "metadata": {},
   "outputs": [
    {
     "name": "stdout",
     "output_type": "stream",
     "text": [
      "natural language processing helps computers understand nlp version 30  is amazing\n"
     ]
    }
   ],
   "source": [
    "lst = \"\"\n",
    "for char in text_lower:\n",
    "    if char not in string.punctuation:\n",
    "        lst+=char\n",
    "\n",
    "print(lst)"
   ]
  },
  {
   "cell_type": "markdown",
   "id": "4e497522",
   "metadata": {},
   "source": [
    "# 3️⃣ Removing Numbers & Extra Spaces"
   ]
  },
  {
   "cell_type": "markdown",
   "id": "6a252ffa",
   "metadata": {},
   "source": [
    "Example with re:"
   ]
  },
  {
   "cell_type": "code",
   "execution_count": 27,
   "id": "d088d95f",
   "metadata": {},
   "outputs": [
    {
     "name": "stdout",
     "output_type": "stream",
     "text": [
      "natural language processing helps computers understand nlp version is amazing\n",
      "After removing punctunation:  natural language processing helps computers understand nlp version is amazing\n"
     ]
    }
   ],
   "source": [
    "# text = \"NLP version 3.0 is amazing!   \"\n",
    "# Remove numbers\n",
    "text_no_numbers = re.sub(r'\\d+', '', clean_text) # from step 2\n",
    "# Remove extra spaces\n",
    "text_clean = re.sub(r'\\s+', ' ', text_no_numbers).strip()\n",
    "print(text_clean)\n",
    "text_cleaned=''\n",
    "for w in text_clean:\n",
    "    if w not in string.punctuation:\n",
    "        text_cleaned += w\n",
    "\n",
    "print(\"After removing punctunation: \", text_cleaned)"
   ]
  },
  {
   "cell_type": "markdown",
   "id": "cb53a13c",
   "metadata": {},
   "source": [
    "# Overall code using regex"
   ]
  },
  {
   "cell_type": "code",
   "execution_count": 19,
   "id": "c4efed54",
   "metadata": {},
   "outputs": [
    {
     "name": "stdout",
     "output_type": "stream",
     "text": [
      "nlp version is amazing\n"
     ]
    }
   ],
   "source": [
    "import re\n",
    "\n",
    "text = \"NLP version 3.0 is amazing! 3.0 .\"\n",
    "\n",
    "# Remove numbers and punctuation\n",
    "clean_text = re.sub(r'[^a-zA-Z\\s]', '', text)\n",
    "\n",
    "# Remove extra spaces\n",
    "clean_text = re.sub(r'\\s+', ' ', clean_text).strip()\n",
    "\n",
    "# Lowercase\n",
    "clean_text = clean_text.lower()\n",
    "\n",
    "print(clean_text)\n"
   ]
  },
  {
   "cell_type": "code",
   "execution_count": null,
   "id": "fe14b855",
   "metadata": {},
   "outputs": [],
   "source": []
  }
 ],
 "metadata": {
  "kernelspec": {
   "display_name": "nlp_env",
   "language": "python",
   "name": "python3"
  },
  "language_info": {
   "codemirror_mode": {
    "name": "ipython",
    "version": 3
   },
   "file_extension": ".py",
   "mimetype": "text/x-python",
   "name": "python",
   "nbconvert_exporter": "python",
   "pygments_lexer": "ipython3",
   "version": "3.14.0"
  }
 },
 "nbformat": 4,
 "nbformat_minor": 5
}
