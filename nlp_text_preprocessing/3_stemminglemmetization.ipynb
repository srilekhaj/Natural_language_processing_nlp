{
 "cells": [
  {
   "cell_type": "markdown",
   "id": "3e6007a2",
   "metadata": {},
   "source": [
    "# 🔹 Step 3: Stemming & Lemmatization\n",
    "\n",
    "Concept: Converting words to their base or root form.\n",
    "\n",
    "✅ We’ll learn:\n",
    "\n",
    "Difference between stemming and lemmatization\n",
    "\n",
    "NLTK’s PorterStemmer vs spaCy’s Lemmatizer"
   ]
  },
  {
   "cell_type": "markdown",
   "id": "0c9d9c27",
   "metadata": {},
   "source": [
    "## Downloading the stemming lemma package"
   ]
  },
  {
   "cell_type": "code",
   "execution_count": 1,
   "id": "85b4178a",
   "metadata": {},
   "outputs": [
    {
     "name": "stderr",
     "output_type": "stream",
     "text": [
      "[nltk_data] Downloading package wordnet to\n",
      "[nltk_data]     c:\\Users\\jsril\\anaconda3\\envs\\nlp_env\\nltk_data...\n"
     ]
    },
    {
     "data": {
      "text/plain": [
       "True"
      ]
     },
     "execution_count": 1,
     "metadata": {},
     "output_type": "execute_result"
    }
   ],
   "source": [
    "import nltk\n",
    "nltk.download('wordnet')"
   ]
  },
  {
   "cell_type": "markdown",
   "id": "16ada6b0",
   "metadata": {},
   "source": [
    "🧩 STEP 3 — STEMMING vs LEMMATIZATION\n",
    "- 🎯 Both are techniques to reduce words to their base or root form,\n",
    "- so that words like “studying”, “studies”, “studied” all refer to “study”.\n",
    "\n",
    "- But the way they do it is very different 👇\n",
    "\n",
    "# Step 3 Stemming and lemmatization\n",
    "- while changing the sentence into root form/base form the\n",
    "- stemming does not add meaning to the word\n",
    "- lemmatization adds meaning to the word\n",
    "- stemming can cut words incorrectly, while lemmatization gives proper dictionary forms."
   ]
  },
  {
   "cell_type": "markdown",
   "id": "a7ef4adb",
   "metadata": {},
   "source": [
    "| Word    | Stemming Output | Lemmatization Output |\n",
    "| ------- | --------------- | -------------------- |\n",
    "| studies | studi           | study                |\n",
    "| running | run             | run                  |\n",
    "| better  | better          | good                 |\n",
    "| leaves  | leav            | leaf                 |\n",
    "| changing | chang          | change               |\n"
   ]
  },
  {
   "cell_type": "code",
   "execution_count": 11,
   "id": "702de1e1",
   "metadata": {},
   "outputs": [],
   "source": [
    "from nltk.stem import PorterStemmer\n",
    "\n",
    "ps = PorterStemmer()\n",
    "\n",
    "words = [\"studies\", \"studying\", \"studied\", \"changing\", \"running\", \"leaves\", \"beautiful\", \"easily\"]\n"
   ]
  },
  {
   "cell_type": "code",
   "execution_count": 12,
   "id": "a074e9e7",
   "metadata": {},
   "outputs": [
    {
     "name": "stdout",
     "output_type": "stream",
     "text": [
      "studi\n",
      "studi\n",
      "studi\n",
      "chang\n",
      "run\n",
      "leav\n",
      "beauti\n",
      "easili\n"
     ]
    }
   ],
   "source": [
    "for w in words:\n",
    "    print(ps.stem(w))"
   ]
  },
  {
   "cell_type": "code",
   "execution_count": 13,
   "id": "d98d880c",
   "metadata": {},
   "outputs": [
    {
     "name": "stdout",
     "output_type": "stream",
     "text": [
      "study\n",
      "studying\n",
      "studied\n",
      "changing\n",
      "running\n",
      "leaf\n",
      "beautiful\n",
      "easily\n"
     ]
    }
   ],
   "source": [
    "from nltk.stem import WordNetLemmatizer\n",
    "\n",
    "wn = WordNetLemmatizer()\n",
    "for w in words:\n",
    "    print(wn.lemmatize(w))"
   ]
  },
  {
   "cell_type": "markdown",
   "id": "7227a526",
   "metadata": {},
   "source": [
    "# Overall code"
   ]
  },
  {
   "cell_type": "code",
   "execution_count": 17,
   "id": "908b1fba",
   "metadata": {},
   "outputs": [
    {
     "name": "stdout",
     "output_type": "stream",
     "text": [
      "**Stemming**\n",
      "NLP -> nlp\n",
      "helps -> help\n",
      "computers -> comput\n",
      "understand -> understand\n",
      "generate -> gener\n",
      "human -> human\n",
      "language -> languag\n",
      "easily -> easili\n",
      ". -> .\n",
      "It -> it\n",
      "helpful -> help\n",
      "\n",
      "**Lemmatization**\n",
      "NLP -> NLP\n",
      "helps -> help\n",
      "computers -> computer\n",
      "understand -> understand\n",
      "generate -> generate\n",
      "human -> human\n",
      "language -> language\n",
      "easily -> easily\n",
      ". -> .\n",
      "It -> It\n",
      "helpful -> helpful\n"
     ]
    }
   ],
   "source": [
    "#step1 tokenize\n",
    "from nltk.tokenize import sent_tokenize, word_tokenize\n",
    "\n",
    "#step 2 stopwords\n",
    "from nltk.corpus import stopwords\n",
    "\n",
    "text = \"NLP helps computers to understand and generate human language easily. It is a very helpful\"\n",
    "\n",
    "words_tokens = word_tokenize(text)\n",
    "\n",
    "stopping_words = set(stopwords.words(\"english\"))\n",
    "filtered_words = [word for word in words_tokens if word not in stopping_words]\n",
    "\n",
    "#step 3 stemming and lemma\n",
    "\n",
    "from nltk.stem import PorterStemmer, WordNetLemmatizer\n",
    "\n",
    "ps = PorterStemmer()\n",
    "wn = WordNetLemmatizer()\n",
    "\n",
    "print(\"**Stemming**\")\n",
    "for w in filtered_words:\n",
    "    print(w , \"->\",ps.stem(w))\n",
    "\n",
    "print()\n",
    "\n",
    "print(\"**Lemmatization**\")\n",
    "for w in filtered_words:\n",
    "    print(w, '->', wn.lemmatize(w))"
   ]
  },
  {
   "cell_type": "markdown",
   "id": "426e1e4b",
   "metadata": {},
   "source": [
    "# ✅ Summary\n",
    "\n",
    "- **Stemming = Fast but rough (rule-based cutting).**\n",
    "\n",
    "- **Lemmatization = Accurate but slower (uses dictionary & grammar).**\n",
    "\n",
    "- **Modern NLP prefers lemmatization (or sometimes subword tokenization with LLMs).**"
   ]
  },
  {
   "cell_type": "markdown",
   "id": "df4dede3",
   "metadata": {},
   "source": []
  }
 ],
 "metadata": {
  "kernelspec": {
   "display_name": "nlp_env",
   "language": "python",
   "name": "python3"
  },
  "language_info": {
   "codemirror_mode": {
    "name": "ipython",
    "version": 3
   },
   "file_extension": ".py",
   "mimetype": "text/x-python",
   "name": "python",
   "nbconvert_exporter": "python",
   "pygments_lexer": "ipython3",
   "version": "3.14.0"
  }
 },
 "nbformat": 4,
 "nbformat_minor": 5
}
